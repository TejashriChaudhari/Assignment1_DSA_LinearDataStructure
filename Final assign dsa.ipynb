{
 "cells": [
  {
   "cell_type": "markdown",
   "id": "bb54589e",
   "metadata": {},
   "source": [
    "Q1. Write a program to find all pairs of an integer array whose sum is equal to a given number?"
   ]
  },
  {
   "cell_type": "code",
   "execution_count": 19,
   "id": "4f15ac43",
   "metadata": {},
   "outputs": [
    {
     "name": "stdout",
     "output_type": "stream",
     "text": [
      "pairs_count:  4\n"
     ]
    }
   ],
   "source": [
    "\n",
    "def print_pairs(arr,n,sum):\n",
    "    arr=[9,7,5,1,4,-3,6]\n",
    "    n=len(arr)\n",
    "    sum=6\n",
    "    pairs_count=0\n",
    "    for i in range(0, n):\n",
    "        for j in range(i + 1, n):\n",
    "            if arr[i] + arr[j] == sum:\n",
    "                pairs_count += 1\n",
    "    print(\"pairs_count: \" ,pairs_count)\n",
    "print_pairs(arr,n,sum)  \n",
    "\n"
   ]
  },
  {
   "cell_type": "code",
   "execution_count": null,
   "id": "1d9aaf95",
   "metadata": {},
   "outputs": [],
   "source": []
  },
  {
   "cell_type": "markdown",
   "id": "360b5ead",
   "metadata": {},
   "source": [
    "Q2. Write a program to reverse an array in place? In place means you cannot create a new array. You have to update the original array."
   ]
  },
  {
   "cell_type": "code",
   "execution_count": 119,
   "id": "5eb24b91",
   "metadata": {},
   "outputs": [
    {
     "name": "stdout",
     "output_type": "stream",
     "text": [
      "Reverse arr [6, -3, 4, 1, 5, 7, 9]\n"
     ]
    }
   ],
   "source": [
    "def reverse_array(arr):\n",
    "    \n",
    "    reverse=arr[::-1]\n",
    "    print(\"Reverse arr\" ,reverse)\n",
    "    \n",
    "    \n",
    "reverse_array([9,7,5,1,4,-3,6])    "
   ]
  },
  {
   "cell_type": "code",
   "execution_count": 121,
   "id": "d149c860",
   "metadata": {},
   "outputs": [
    {
     "name": "stdout",
     "output_type": "stream",
     "text": [
      "Reverse_array:  [7, 6, 5, 4, 3, 2, 1]\n"
     ]
    }
   ],
   "source": [
    "def reverse_array(arr):\n",
    "    x=reversed(arr)\n",
    "    print(\"Reverse_array: \",list(x))\n",
    "reverse_array([1,2,3,4,5,6,7])"
   ]
  },
  {
   "cell_type": "code",
   "execution_count": 35,
   "id": "39684788",
   "metadata": {},
   "outputs": [
    {
     "data": {
      "text/plain": [
       "[7, 6, 5, 4, 3, 2, 1]"
      ]
     },
     "execution_count": 35,
     "metadata": {},
     "output_type": "execute_result"
    }
   ],
   "source": [
    "def reverse_array(arr):\n",
    "    x=reversed(arr)\n",
    "    return (list(x))\n",
    "reverse_array([1,2,3,4,5,6,7])"
   ]
  },
  {
   "cell_type": "code",
   "execution_count": 18,
   "id": "8f5c8abd",
   "metadata": {},
   "outputs": [
    {
     "name": "stdout",
     "output_type": "stream",
     "text": [
      "[5, 40, 3, 2, 1, 13]\n",
      "Reversed list is\n",
      "[13, 1, 2, 3, 40, 5]\n"
     ]
    }
   ],
   "source": [
    "def reverse_list(A, start, end):\n",
    "    while start < end:\n",
    "        A[start], A[end] = A[end], A[start]\n",
    "        start += 1\n",
    "        end -= 1\n",
    "A = [5,40,3,2,1,13]\n",
    "print(A)\n",
    "reverse_list(A, 0, 5)\n",
    "print(\"Reversed list is\")\n",
    "print(A)"
   ]
  },
  {
   "cell_type": "code",
   "execution_count": null,
   "id": "e6918323",
   "metadata": {},
   "outputs": [],
   "source": []
  },
  {
   "cell_type": "markdown",
   "id": "56ce033b",
   "metadata": {},
   "source": [
    "Q3. Write a program to check if two strings are a rotation of each other?"
   ]
  },
  {
   "cell_type": "code",
   "execution_count": 49,
   "id": "c85cfe1b",
   "metadata": {},
   "outputs": [
    {
     "name": "stdout",
     "output_type": "stream",
     "text": [
      "Strings are rotations of each other\n"
     ]
    }
   ],
   "source": [
    "def check_rotation(str1,str2):\n",
    "    size1 = len(str1)\n",
    "    size2 = len(str2)\n",
    "    if size1 != size2:\n",
    "        return 0\n",
    "\n",
    "    temp=\" \"\n",
    "    temp=str1+str1\n",
    "    if (temp.count(str2)>0):\n",
    "         return 1\n",
    "    else:\n",
    "         return 0\n",
    "str1=\"harry\"\n",
    "str2=\"rryha\"        \n",
    "    \n",
    "if check_rotation(str1, str2):\n",
    "    print (\"Strings are rotations of each other\")\n",
    "else:\n",
    "    print (\"Strings are not rotations of each other\")"
   ]
  },
  {
   "cell_type": "code",
   "execution_count": null,
   "id": "b422cd0b",
   "metadata": {},
   "outputs": [],
   "source": []
  },
  {
   "cell_type": "markdown",
   "id": "747395fa",
   "metadata": {},
   "source": [
    "Q4. Write a program to print the first non-repeated character from a string?"
   ]
  },
  {
   "cell_type": "code",
   "execution_count": 127,
   "id": "d7e39a5c",
   "metadata": {},
   "outputs": [
    {
     "name": "stdout",
     "output_type": "stream",
     "text": [
      "c\n"
     ]
    }
   ],
   "source": [
    "from collections import Counter\n",
    "def Nonrepeated(string):\n",
    "    occurence = Counter(string)\n",
    "    for i in string:\n",
    "        if(occurence[i] == 1):\n",
    "            print(i)\n",
    "            break\n",
    "string = \"rocknroll\"\n",
    "Nonrepeated(string)\n",
    " "
   ]
  },
  {
   "cell_type": "code",
   "execution_count": 126,
   "id": "19304b1a",
   "metadata": {},
   "outputs": [
    {
     "data": {
      "text/plain": [
       "'c'"
      ]
     },
     "execution_count": 126,
     "metadata": {},
     "output_type": "execute_result"
    }
   ],
   "source": [
    "def non_repeated(str1):\n",
    "    for i in str1:\n",
    "        count = str1.count(i)\n",
    "        if count == 1:\n",
    "            return i\n",
    "            break\n",
    "str1 = \"rocknroll\"\n",
    "non_repeated(str1)"
   ]
  },
  {
   "cell_type": "code",
   "execution_count": null,
   "id": "d310c65d",
   "metadata": {},
   "outputs": [],
   "source": []
  },
  {
   "cell_type": "code",
   "execution_count": null,
   "id": "a560f39a",
   "metadata": {},
   "outputs": [],
   "source": []
  },
  {
   "cell_type": "markdown",
   "id": "30b5e9ba",
   "metadata": {},
   "source": [
    "Q5. Read about the Tower of Hanoi algorithm. Write a program to implement it."
   ]
  },
  {
   "cell_type": "code",
   "execution_count": 4,
   "id": "ab56abdc",
   "metadata": {},
   "outputs": [
    {
     "name": "stdout",
     "output_type": "stream",
     "text": [
      "Moving disk 1 from rod A to rod C\n",
      "Moving disk 2 from rod A to rod B\n",
      "Moving disk 1 from rod C to rod B\n",
      "Moving disk 3 from rod A to rod C\n",
      "Moving disk 1 from rod B to rod A\n",
      "Moving disk 2 from rod B to rod C\n",
      "Moving disk 1 from rod A to rod C\n"
     ]
    }
   ],
   "source": [
    "def Tower_Of_Hanoi(n , from_rod, to_rod, aux_rod):\n",
    "    if n == 0:\n",
    "        return\n",
    "    Tower_Of_Hanoi(n-1, from_rod, aux_rod, to_rod)\n",
    "    print(\"Moving disk\",n,\"from rod\",from_rod,\"to rod\",to_rod)\n",
    "    Tower_Of_Hanoi(n-1, aux_rod, to_rod, from_rod)\n",
    "         \n",
    "\n",
    "n = 3\n",
    "Tower_Of_Hanoi(n, 'A', 'C', 'B')"
   ]
  },
  {
   "cell_type": "code",
   "execution_count": null,
   "id": "dfd33433",
   "metadata": {},
   "outputs": [],
   "source": []
  },
  {
   "cell_type": "markdown",
   "id": "93e87a63",
   "metadata": {},
   "source": [
    "Q6. Read about infix, prefix, and postfix expressions. Write a program to convert postfix to prefix expression"
   ]
  },
  {
   "cell_type": "code",
   "execution_count": 109,
   "id": "31be70bc",
   "metadata": {},
   "outputs": [
    {
     "name": "stdout",
     "output_type": "stream",
     "text": [
      "Prefix :  +AB-CD\n"
     ]
    }
   ],
   "source": [
    "def isOperator(x):\n",
    "    if x == \"+\":\n",
    "        return True\n",
    "    if x == \"-\":\n",
    "        return True\n",
    "    if x == \"/\":\n",
    "        return True\n",
    "    if x == \"*\":\n",
    "        return True\n",
    "    return False\n",
    "\n",
    "def post_to_pre(post_exp):\n",
    "    s = []\n",
    "    length = len(post_exp)\n",
    "    for i in range(length):\n",
    "        if (isOperator(post_exp[i])):\n",
    "            op1 = s[-1]\n",
    "            s.pop()\n",
    "            op2 = s[-1]\n",
    "            s.pop()\n",
    "            temp = post_exp[i] + op2 + op1\n",
    "            s.append(temp)\n",
    "        else:\n",
    "             s.append(post_exp[i])\n",
    "    ans = \"\"\n",
    "    for i in s:\n",
    "        ans += i\n",
    "    return ans\n",
    "if __name__ == \"__main__\":\n",
    "    post_exp = \"AB+CD-\"\n",
    "    print(\"Prefix : \", post_to_pre(post_exp))\n",
    " "
   ]
  },
  {
   "cell_type": "code",
   "execution_count": null,
   "id": "33be6a2e",
   "metadata": {},
   "outputs": [],
   "source": []
  },
  {
   "cell_type": "markdown",
   "id": "0ab49eda",
   "metadata": {},
   "source": [
    "Q7. Write a program to convert prefix expression to infix expression."
   ]
  },
  {
   "cell_type": "code",
   "execution_count": 5,
   "id": "1dcd7203",
   "metadata": {},
   "outputs": [
    {
     "name": "stdout",
     "output_type": "stream",
     "text": [
      "((A-(B/C))*((A/G)-H))\n"
     ]
    }
   ],
   "source": [
    "def prefixToinfix(prefix):\n",
    "    stack = []\n",
    "    i = len(prefix) - 1\n",
    "    while i >= 0:\n",
    "        if not isOperator(prefix[i]):\n",
    "\n",
    "            stack.append(prefix[i])\n",
    "            i -= 1\n",
    "        else:\n",
    "            str = \"(\" + stack.pop() + prefix[i] + stack.pop() + \")\"\n",
    "            stack.append(str)\n",
    "            i -= 1\n",
    "    return stack.pop()\n",
    "\n",
    "def isOperator(c):\n",
    "    if c == \"*\" or c == \"+\" or c == \"-\" or c == \"/\" or c == \"^\" or c == \"(\" or c == \")\":\n",
    "        return True\n",
    "    else:\n",
    "        return False\n",
    "\n",
    "\n",
    "if __name__==\"__main__\":\n",
    "    str = \"*-A/BC-/AGH\"\n",
    "    print(prefixToinfix(str))\n",
    "\n",
    "\n"
   ]
  },
  {
   "cell_type": "code",
   "execution_count": null,
   "id": "590c7159",
   "metadata": {},
   "outputs": [],
   "source": []
  },
  {
   "cell_type": "markdown",
   "id": "0907ec86",
   "metadata": {},
   "source": [
    "Q8. Write a program to check if all the brackets are closed in a given code snippet."
   ]
  },
  {
   "cell_type": "code",
   "execution_count": 113,
   "id": "7f67687a",
   "metadata": {},
   "outputs": [
    {
     "name": "stdout",
     "output_type": "stream",
     "text": [
      "Not Balanced\n"
     ]
    }
   ],
   "source": [
    "def check_brackets(x):\n",
    "    var = []\n",
    " \n",
    "    for i in x:\n",
    "        if i in [\"(\", \"{\", \"[\"]:\n",
    "            var.append(i)\n",
    "            \n",
    "        else:\n",
    "            if not var:\n",
    "                return False\n",
    "            temp_char = var.pop()\n",
    "            if temp_char == '(':\n",
    "                if i != \")\":\n",
    "                    return False\n",
    "            if temp_char == '{':\n",
    "                if i != \"}\":\n",
    "                    return False\n",
    "            if temp_char == '[':\n",
    "                if i != \"]\":\n",
    "                    return False\n",
    " \n",
    "    if var:\n",
    "        return False\n",
    "    return True\n",
    "\n",
    "x = \"{()}[(]\"\n",
    "    \n",
    "if check_brackets(x):\n",
    "    print(\"Balanced\")\n",
    "else:\n",
    "    print(\"Not Balanced\")"
   ]
  },
  {
   "cell_type": "code",
   "execution_count": null,
   "id": "89b567a8",
   "metadata": {},
   "outputs": [],
   "source": []
  },
  {
   "cell_type": "markdown",
   "id": "8f628eae",
   "metadata": {},
   "source": [
    "Q9. Write a program to reverse a stack."
   ]
  },
  {
   "cell_type": "code",
   "execution_count": 115,
   "id": "930e7726",
   "metadata": {},
   "outputs": [
    {
     "name": "stdout",
     "output_type": "stream",
     "text": [
      "Original Stack\n",
      "5\n",
      "4\n",
      "3\n",
      "2\n",
      "1\n",
      "\n",
      "Stack after Reversing\n",
      "1\n",
      "2\n",
      "3\n",
      "4\n",
      "5\n"
     ]
    }
   ],
   "source": [
    "class Stack:\n",
    "    def __init__(self):\n",
    "        self.Elements = []\n",
    "        \n",
    "    def push(self, value):\n",
    "        self.Elements.append(value)\n",
    "\n",
    "    def pop(self):\n",
    "        return self.Elements.pop()\n",
    "\n",
    "    def empty(self):\n",
    "        return self.Elements == []\n",
    "    \n",
    "    def show(self):\n",
    "         for value in reversed(self.Elements):\n",
    "            print(value)\n",
    "\n",
    "\n",
    "def insert_bottom(s, value):\n",
    "\n",
    "    if s.empty():\n",
    "        s.push(value)\n",
    "    else:\n",
    "        popped = s.pop()\n",
    "        insert_bottom(s, value)\n",
    "        s.push(popped)\n",
    "\n",
    "def Reverse(s):\n",
    "     if s.empty():\n",
    "        pass\n",
    "     else:\n",
    "        popped = s.pop()\n",
    "        Reverse(s)\n",
    "        insert_bottom(s, popped)\n",
    "\n",
    "stk = Stack()\n",
    "stk.push(1)\n",
    "stk.push(2)\n",
    "stk.push(3)\n",
    "stk.push(4)\n",
    "stk.push(5)\n",
    "\n",
    "print(\"Original Stack\")\n",
    "stk.show()\n",
    "\n",
    "print(\"\\nStack after Reversing\")\n",
    "Reverse(stk)\n",
    "stk.show()\n"
   ]
  },
  {
   "cell_type": "code",
   "execution_count": null,
   "id": "7d1c2c74",
   "metadata": {},
   "outputs": [],
   "source": [
    "\n"
   ]
  },
  {
   "cell_type": "code",
   "execution_count": 15,
   "id": "5f9dd850",
   "metadata": {
    "scrolled": true
   },
   "outputs": [
    {
     "name": "stdout",
     "output_type": "stream",
     "text": [
      "Original Stack\n",
      "11\n",
      "12\n",
      "13\n",
      "14\n",
      "15\n",
      "Reversed Stack\n",
      "15\n",
      "14\n",
      "13\n",
      "12\n",
      "11\n"
     ]
    }
   ],
   "source": [
    "def reverse_stack(stack):\n",
    "    stack = reversed(stack)\n",
    "    return list(stack)\n",
    "stack = [11,12,13,14,15]\n",
    "print(\"Original Stack\",*stack, sep='\\n')\n",
    "print(\"Reversed Stack\",*reverse_stack(stack), sep='\\n')"
   ]
  },
  {
   "cell_type": "code",
   "execution_count": null,
   "id": "717f7807",
   "metadata": {},
   "outputs": [],
   "source": []
  },
  {
   "cell_type": "markdown",
   "id": "74a5db0d",
   "metadata": {},
   "source": [
    "Q10. Write a program to find the smallest number using a stack\n"
   ]
  },
  {
   "cell_type": "code",
   "execution_count": 125,
   "id": "173afb1f",
   "metadata": {},
   "outputs": [
    {
     "name": "stdout",
     "output_type": "stream",
     "text": [
      "[-1, 3, 4, 7, 50]\n"
     ]
    },
    {
     "data": {
      "text/plain": [
       "-1"
      ]
     },
     "execution_count": 125,
     "metadata": {},
     "output_type": "execute_result"
    }
   ],
   "source": [
    "def find_smallest_no(stack):\n",
    "    x=sorted(stack)\n",
    "    print(x)\n",
    "    return x[0]\n",
    "    \n",
    "stack=[50,7,4,3,-1]    \n",
    "find_smallest_no(stack)"
   ]
  },
  {
   "cell_type": "code",
   "execution_count": null,
   "id": "b32ee98e",
   "metadata": {},
   "outputs": [],
   "source": []
  },
  {
   "cell_type": "code",
   "execution_count": 8,
   "id": "004c0107",
   "metadata": {},
   "outputs": [
    {
     "data": {
      "text/plain": [
       "-101"
      ]
     },
     "execution_count": 8,
     "metadata": {},
     "output_type": "execute_result"
    }
   ],
   "source": [
    "stack= [3,90,66,54,-94,-101]\n",
    "min(*stack)"
   ]
  },
  {
   "cell_type": "code",
   "execution_count": null,
   "id": "60371d6b",
   "metadata": {},
   "outputs": [],
   "source": []
  },
  {
   "cell_type": "code",
   "execution_count": null,
   "id": "ef3a0613",
   "metadata": {},
   "outputs": [],
   "source": []
  }
 ],
 "metadata": {
  "kernelspec": {
   "display_name": "Python 3 (ipykernel)",
   "language": "python",
   "name": "python3"
  },
  "language_info": {
   "codemirror_mode": {
    "name": "ipython",
    "version": 3
   },
   "file_extension": ".py",
   "mimetype": "text/x-python",
   "name": "python",
   "nbconvert_exporter": "python",
   "pygments_lexer": "ipython3",
   "version": "3.10.1"
  }
 },
 "nbformat": 4,
 "nbformat_minor": 5
}
